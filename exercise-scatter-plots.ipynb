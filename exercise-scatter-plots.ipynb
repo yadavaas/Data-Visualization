{
 "cells": [
  {
   "cell_type": "markdown",
   "id": "40304cfc",
   "metadata": {
    "papermill": {
     "duration": 0.010205,
     "end_time": "2022-07-04T09:12:45.368383",
     "exception": false,
     "start_time": "2022-07-04T09:12:45.358178",
     "status": "completed"
    },
    "tags": []
   },
   "source": [
    "**This notebook is an exercise in the [Data Visualization](https://www.kaggle.com/learn/data-visualization) course.  You can reference the tutorial at [this link](https://www.kaggle.com/alexisbcook/scatter-plots).**\n",
    "\n",
    "---\n"
   ]
  },
  {
   "cell_type": "markdown",
   "id": "dc98cafa",
   "metadata": {
    "papermill": {
     "duration": 0.008761,
     "end_time": "2022-07-04T09:12:45.386384",
     "exception": false,
     "start_time": "2022-07-04T09:12:45.377623",
     "status": "completed"
    },
    "tags": []
   },
   "source": [
    "In this exercise, you will use your new knowledge to propose a solution to a real-world scenario.  To succeed, you will need to import data into Python, answer questions using the data, and generate **scatter plots** to understand patterns in the data.\n",
    "\n",
    "## Scenario\n",
    "\n",
    "You work for a major candy producer, and your goal is to write a report that your company can use to guide the design of its next product.  Soon after starting your research, you stumble across this [very interesting dataset](https://fivethirtyeight.com/features/the-ultimate-halloween-candy-power-ranking/) containing results from a fun survey to crowdsource favorite candies.\n",
    "\n",
    "## Setup\n",
    "\n",
    "Run the next cell to import and configure the Python libraries that you need to complete the exercise."
   ]
  },
  {
   "cell_type": "code",
   "execution_count": 1,
   "id": "7ac1f241",
   "metadata": {
    "execution": {
     "iopub.execute_input": "2022-07-04T09:12:45.406345Z",
     "iopub.status.busy": "2022-07-04T09:12:45.405912Z",
     "iopub.status.idle": "2022-07-04T09:12:46.438507Z",
     "shell.execute_reply": "2022-07-04T09:12:46.437373Z"
    },
    "papermill": {
     "duration": 1.04649,
     "end_time": "2022-07-04T09:12:46.441866",
     "exception": false,
     "start_time": "2022-07-04T09:12:45.395376",
     "status": "completed"
    },
    "tags": []
   },
   "outputs": [
    {
     "name": "stdout",
     "output_type": "stream",
     "text": [
      "Setup Complete\n"
     ]
    }
   ],
   "source": [
    "import pandas as pd\n",
    "pd.plotting.register_matplotlib_converters()\n",
    "import matplotlib.pyplot as plt\n",
    "%matplotlib inline\n",
    "import seaborn as sns\n",
    "print(\"Setup Complete\")"
   ]
  },
  {
   "cell_type": "markdown",
   "id": "ad90a3c9",
   "metadata": {
    "papermill": {
     "duration": 0.009021,
     "end_time": "2022-07-04T09:12:46.460982",
     "exception": false,
     "start_time": "2022-07-04T09:12:46.451961",
     "status": "completed"
    },
    "tags": []
   },
   "source": [
    "The questions below will give you feedback on your work. Run the following cell to set up our feedback system."
   ]
  },
  {
   "cell_type": "code",
   "execution_count": 2,
   "id": "fd65cd9f",
   "metadata": {
    "execution": {
     "iopub.execute_input": "2022-07-04T09:12:46.481181Z",
     "iopub.status.busy": "2022-07-04T09:12:46.480824Z",
     "iopub.status.idle": "2022-07-04T09:12:46.542606Z",
     "shell.execute_reply": "2022-07-04T09:12:46.541411Z"
    },
    "papermill": {
     "duration": 0.074797,
     "end_time": "2022-07-04T09:12:46.545018",
     "exception": false,
     "start_time": "2022-07-04T09:12:46.470221",
     "status": "completed"
    },
    "tags": []
   },
   "outputs": [
    {
     "name": "stdout",
     "output_type": "stream",
     "text": [
      "Setup Complete\n"
     ]
    }
   ],
   "source": [
    "# Set up code checking\n",
    "import os\n",
    "if not os.path.exists(\"../input/candy.csv\"):\n",
    "    os.symlink(\"../input/data-for-datavis/candy.csv\", \"../input/candy.csv\") \n",
    "from learntools.core import binder\n",
    "binder.bind(globals())\n",
    "from learntools.data_viz_to_coder.ex4 import *\n",
    "print(\"Setup Complete\")"
   ]
  },
  {
   "cell_type": "markdown",
   "id": "a8619969",
   "metadata": {
    "papermill": {
     "duration": 0.00927,
     "end_time": "2022-07-04T09:12:46.563847",
     "exception": false,
     "start_time": "2022-07-04T09:12:46.554577",
     "status": "completed"
    },
    "tags": []
   },
   "source": [
    "## Step 1: Load the Data\n",
    "\n",
    "Read the candy data file into `candy_data`.  Use the `\"id\"` column to label the rows."
   ]
  },
  {
   "cell_type": "code",
   "execution_count": 3,
   "id": "70aec351",
   "metadata": {
    "execution": {
     "iopub.execute_input": "2022-07-04T09:12:46.584361Z",
     "iopub.status.busy": "2022-07-04T09:12:46.583952Z",
     "iopub.status.idle": "2022-07-04T09:12:46.599912Z",
     "shell.execute_reply": "2022-07-04T09:12:46.598866Z"
    },
    "papermill": {
     "duration": 0.028635,
     "end_time": "2022-07-04T09:12:46.601968",
     "exception": false,
     "start_time": "2022-07-04T09:12:46.573333",
     "status": "completed"
    },
    "tags": []
   },
   "outputs": [
    {
     "data": {
      "application/javascript": [
       "parent.postMessage({\"jupyterEvent\": \"custom.exercise_interaction\", \"data\": {\"outcomeType\": 1, \"valueTowardsCompletion\": 0.3333333333333333, \"interactionType\": 1, \"questionType\": 1, \"questionId\": \"1_LoadData\", \"learnToolsVersion\": \"0.3.4\", \"failureMessage\": \"\", \"exceptionClass\": \"\", \"trace\": \"\"}}, \"*\")"
      ],
      "text/plain": [
       "<IPython.core.display.Javascript object>"
      ]
     },
     "metadata": {},
     "output_type": "display_data"
    },
    {
     "data": {
      "text/markdown": [
       "<span style=\"color:#33cc33\">Correct</span>"
      ],
      "text/plain": [
       "Correct"
      ]
     },
     "metadata": {},
     "output_type": "display_data"
    }
   ],
   "source": [
    "# Path of the file to read\n",
    "candy_filepath = \"../input/candy.csv\"\n",
    "\n",
    "# Fill in the line below to read the file into a variable candy_data\n",
    "candy_data = pd.read_csv(candy_filepath, index_col='id')\n",
    "\n",
    "# Run the line below with no changes to check that you've loaded the data correctly\n",
    "step_1.check()"
   ]
  },
  {
   "cell_type": "code",
   "execution_count": 4,
   "id": "8ccb1bb9",
   "metadata": {
    "execution": {
     "iopub.execute_input": "2022-07-04T09:12:46.622715Z",
     "iopub.status.busy": "2022-07-04T09:12:46.622387Z",
     "iopub.status.idle": "2022-07-04T09:12:46.626421Z",
     "shell.execute_reply": "2022-07-04T09:12:46.625180Z"
    },
    "papermill": {
     "duration": 0.017145,
     "end_time": "2022-07-04T09:12:46.628752",
     "exception": false,
     "start_time": "2022-07-04T09:12:46.611607",
     "status": "completed"
    },
    "tags": []
   },
   "outputs": [],
   "source": [
    "# Lines below will give you a hint or solution code\n",
    "#step_1.hint()\n",
    "#step_1.solution()"
   ]
  },
  {
   "cell_type": "markdown",
   "id": "338cb9d7",
   "metadata": {
    "papermill": {
     "duration": 0.009754,
     "end_time": "2022-07-04T09:12:46.649299",
     "exception": false,
     "start_time": "2022-07-04T09:12:46.639545",
     "status": "completed"
    },
    "tags": []
   },
   "source": [
    "## Step 2: Review the data\n",
    "\n",
    "Use a Python command to print the first five rows of the data."
   ]
  },
  {
   "cell_type": "code",
   "execution_count": 5,
   "id": "9510e25f",
   "metadata": {
    "execution": {
     "iopub.execute_input": "2022-07-04T09:12:46.671388Z",
     "iopub.status.busy": "2022-07-04T09:12:46.671002Z",
     "iopub.status.idle": "2022-07-04T09:12:46.692629Z",
     "shell.execute_reply": "2022-07-04T09:12:46.691630Z"
    },
    "papermill": {
     "duration": 0.034982,
     "end_time": "2022-07-04T09:12:46.694629",
     "exception": false,
     "start_time": "2022-07-04T09:12:46.659647",
     "status": "completed"
    },
    "tags": []
   },
   "outputs": [
    {
     "data": {
      "text/html": [
       "<div>\n",
       "<style scoped>\n",
       "    .dataframe tbody tr th:only-of-type {\n",
       "        vertical-align: middle;\n",
       "    }\n",
       "\n",
       "    .dataframe tbody tr th {\n",
       "        vertical-align: top;\n",
       "    }\n",
       "\n",
       "    .dataframe thead th {\n",
       "        text-align: right;\n",
       "    }\n",
       "</style>\n",
       "<table border=\"1\" class=\"dataframe\">\n",
       "  <thead>\n",
       "    <tr style=\"text-align: right;\">\n",
       "      <th></th>\n",
       "      <th>competitorname</th>\n",
       "      <th>chocolate</th>\n",
       "      <th>fruity</th>\n",
       "      <th>caramel</th>\n",
       "      <th>peanutyalmondy</th>\n",
       "      <th>nougat</th>\n",
       "      <th>crispedricewafer</th>\n",
       "      <th>hard</th>\n",
       "      <th>bar</th>\n",
       "      <th>pluribus</th>\n",
       "      <th>sugarpercent</th>\n",
       "      <th>pricepercent</th>\n",
       "      <th>winpercent</th>\n",
       "    </tr>\n",
       "    <tr>\n",
       "      <th>id</th>\n",
       "      <th></th>\n",
       "      <th></th>\n",
       "      <th></th>\n",
       "      <th></th>\n",
       "      <th></th>\n",
       "      <th></th>\n",
       "      <th></th>\n",
       "      <th></th>\n",
       "      <th></th>\n",
       "      <th></th>\n",
       "      <th></th>\n",
       "      <th></th>\n",
       "      <th></th>\n",
       "    </tr>\n",
       "  </thead>\n",
       "  <tbody>\n",
       "    <tr>\n",
       "      <th>0</th>\n",
       "      <td>100 Grand</td>\n",
       "      <td>Yes</td>\n",
       "      <td>No</td>\n",
       "      <td>Yes</td>\n",
       "      <td>No</td>\n",
       "      <td>No</td>\n",
       "      <td>Yes</td>\n",
       "      <td>No</td>\n",
       "      <td>Yes</td>\n",
       "      <td>No</td>\n",
       "      <td>0.732</td>\n",
       "      <td>0.860</td>\n",
       "      <td>66.971725</td>\n",
       "    </tr>\n",
       "    <tr>\n",
       "      <th>1</th>\n",
       "      <td>3 Musketeers</td>\n",
       "      <td>Yes</td>\n",
       "      <td>No</td>\n",
       "      <td>No</td>\n",
       "      <td>No</td>\n",
       "      <td>Yes</td>\n",
       "      <td>No</td>\n",
       "      <td>No</td>\n",
       "      <td>Yes</td>\n",
       "      <td>No</td>\n",
       "      <td>0.604</td>\n",
       "      <td>0.511</td>\n",
       "      <td>67.602936</td>\n",
       "    </tr>\n",
       "    <tr>\n",
       "      <th>2</th>\n",
       "      <td>Air Heads</td>\n",
       "      <td>No</td>\n",
       "      <td>Yes</td>\n",
       "      <td>No</td>\n",
       "      <td>No</td>\n",
       "      <td>No</td>\n",
       "      <td>No</td>\n",
       "      <td>No</td>\n",
       "      <td>No</td>\n",
       "      <td>No</td>\n",
       "      <td>0.906</td>\n",
       "      <td>0.511</td>\n",
       "      <td>52.341465</td>\n",
       "    </tr>\n",
       "    <tr>\n",
       "      <th>3</th>\n",
       "      <td>Almond Joy</td>\n",
       "      <td>Yes</td>\n",
       "      <td>No</td>\n",
       "      <td>No</td>\n",
       "      <td>Yes</td>\n",
       "      <td>No</td>\n",
       "      <td>No</td>\n",
       "      <td>No</td>\n",
       "      <td>Yes</td>\n",
       "      <td>No</td>\n",
       "      <td>0.465</td>\n",
       "      <td>0.767</td>\n",
       "      <td>50.347546</td>\n",
       "    </tr>\n",
       "    <tr>\n",
       "      <th>4</th>\n",
       "      <td>Baby Ruth</td>\n",
       "      <td>Yes</td>\n",
       "      <td>No</td>\n",
       "      <td>Yes</td>\n",
       "      <td>Yes</td>\n",
       "      <td>Yes</td>\n",
       "      <td>No</td>\n",
       "      <td>No</td>\n",
       "      <td>Yes</td>\n",
       "      <td>No</td>\n",
       "      <td>0.604</td>\n",
       "      <td>0.767</td>\n",
       "      <td>56.914547</td>\n",
       "    </tr>\n",
       "  </tbody>\n",
       "</table>\n",
       "</div>"
      ],
      "text/plain": [
       "   competitorname chocolate fruity caramel peanutyalmondy nougat  \\\n",
       "id                                                                 \n",
       "0       100 Grand       Yes     No     Yes             No     No   \n",
       "1    3 Musketeers       Yes     No      No             No    Yes   \n",
       "2       Air Heads        No    Yes      No             No     No   \n",
       "3      Almond Joy       Yes     No      No            Yes     No   \n",
       "4       Baby Ruth       Yes     No     Yes            Yes    Yes   \n",
       "\n",
       "   crispedricewafer hard  bar pluribus  sugarpercent  pricepercent  winpercent  \n",
       "id                                                                              \n",
       "0               Yes   No  Yes       No         0.732         0.860   66.971725  \n",
       "1                No   No  Yes       No         0.604         0.511   67.602936  \n",
       "2                No   No   No       No         0.906         0.511   52.341465  \n",
       "3                No   No  Yes       No         0.465         0.767   50.347546  \n",
       "4                No   No  Yes       No         0.604         0.767   56.914547  "
      ]
     },
     "execution_count": 5,
     "metadata": {},
     "output_type": "execute_result"
    }
   ],
   "source": [
    "# Print the first five rows of the data\n",
    "candy_data.head() # Your code here"
   ]
  },
  {
   "cell_type": "markdown",
   "id": "d8223270",
   "metadata": {
    "papermill": {
     "duration": 0.009932,
     "end_time": "2022-07-04T09:12:46.714756",
     "exception": false,
     "start_time": "2022-07-04T09:12:46.704824",
     "status": "completed"
    },
    "tags": []
   },
   "source": [
    "The dataset contains 83 rows, where each corresponds to a different candy bar.  There are 13 columns:\n",
    "- `'competitorname'` contains the name of the candy bar. \n",
    "- the next **9** columns (from `'chocolate'` to `'pluribus'`) describe the candy.  For instance, rows with chocolate candies have `\"Yes\"` in the `'chocolate'` column (and candies without chocolate have `\"No\"` in the same column).\n",
    "- `'sugarpercent'` provides some indication of the amount of sugar, where higher values signify higher sugar content.\n",
    "- `'pricepercent'` shows the price per unit, relative to the other candies in the dataset.\n",
    "- `'winpercent'` is calculated from the survey results; higher values indicate that the candy was more popular with survey respondents.\n",
    "\n",
    "Use the first five rows of the data to answer the questions below."
   ]
  },
  {
   "cell_type": "code",
   "execution_count": 6,
   "id": "f2af5479",
   "metadata": {
    "execution": {
     "iopub.execute_input": "2022-07-04T09:12:46.736594Z",
     "iopub.status.busy": "2022-07-04T09:12:46.736185Z",
     "iopub.status.idle": "2022-07-04T09:12:46.744267Z",
     "shell.execute_reply": "2022-07-04T09:12:46.743377Z"
    },
    "papermill": {
     "duration": 0.021411,
     "end_time": "2022-07-04T09:12:46.746191",
     "exception": false,
     "start_time": "2022-07-04T09:12:46.724780",
     "status": "completed"
    },
    "tags": []
   },
   "outputs": [
    {
     "data": {
      "application/javascript": [
       "parent.postMessage({\"jupyterEvent\": \"custom.exercise_interaction\", \"data\": {\"outcomeType\": 1, \"valueTowardsCompletion\": 0.3333333333333333, \"interactionType\": 1, \"questionType\": 1, \"questionId\": \"2_ReviewData\", \"learnToolsVersion\": \"0.3.4\", \"failureMessage\": \"\", \"exceptionClass\": \"\", \"trace\": \"\"}}, \"*\")"
      ],
      "text/plain": [
       "<IPython.core.display.Javascript object>"
      ]
     },
     "metadata": {},
     "output_type": "display_data"
    },
    {
     "data": {
      "text/markdown": [
       "<span style=\"color:#33cc33\">Correct</span>"
      ],
      "text/plain": [
       "Correct"
      ]
     },
     "metadata": {},
     "output_type": "display_data"
    }
   ],
   "source": [
    "# Fill in the line below: Which candy was more popular with survey respondents:\n",
    "# '3 Musketeers' or 'Almond Joy'?  (Please enclose your answer in single quotes.)\n",
    "more_popular = '3 Musketeers'\n",
    "\n",
    "# Fill in the line below: Which candy has higher sugar content: 'Air Heads'\n",
    "# or 'Baby Ruth'? (Please enclose your answer in single quotes.)\n",
    "more_sugar = 'Air Heads'\n",
    "\n",
    "# Check your answers\n",
    "step_2.check()"
   ]
  },
  {
   "cell_type": "code",
   "execution_count": 7,
   "id": "a8083deb",
   "metadata": {
    "execution": {
     "iopub.execute_input": "2022-07-04T09:12:46.768717Z",
     "iopub.status.busy": "2022-07-04T09:12:46.768274Z",
     "iopub.status.idle": "2022-07-04T09:12:46.772212Z",
     "shell.execute_reply": "2022-07-04T09:12:46.771390Z"
    },
    "papermill": {
     "duration": 0.017943,
     "end_time": "2022-07-04T09:12:46.774347",
     "exception": false,
     "start_time": "2022-07-04T09:12:46.756404",
     "status": "completed"
    },
    "tags": []
   },
   "outputs": [],
   "source": [
    "# Lines below will give you a hint or solution code\n",
    "#step_2.hint()\n",
    "#step_2.solution()"
   ]
  },
  {
   "cell_type": "markdown",
   "id": "0616e584",
   "metadata": {
    "papermill": {
     "duration": 0.010589,
     "end_time": "2022-07-04T09:12:46.795762",
     "exception": false,
     "start_time": "2022-07-04T09:12:46.785173",
     "status": "completed"
    },
    "tags": []
   },
   "source": [
    "## Step 3: The role of sugar\n",
    "\n",
    "Do people tend to prefer candies with higher sugar content?  \n",
    "\n",
    "#### Part A\n",
    "\n",
    "Create a scatter plot that shows the relationship between `'sugarpercent'` (on the horizontal x-axis) and `'winpercent'` (on the vertical y-axis).  _Don't add a regression line just yet -- you'll do that in the next step!_"
   ]
  },
  {
   "cell_type": "code",
   "execution_count": 8,
   "id": "75fc6b4d",
   "metadata": {
    "execution": {
     "iopub.execute_input": "2022-07-04T09:12:46.818842Z",
     "iopub.status.busy": "2022-07-04T09:12:46.818495Z",
     "iopub.status.idle": "2022-07-04T09:12:47.059797Z",
     "shell.execute_reply": "2022-07-04T09:12:47.058633Z"
    },
    "papermill": {
     "duration": 0.255512,
     "end_time": "2022-07-04T09:12:47.062221",
     "exception": false,
     "start_time": "2022-07-04T09:12:46.806709",
     "status": "completed"
    },
    "tags": []
   },
   "outputs": [
    {
     "data": {
      "application/javascript": [
       "parent.postMessage({\"jupyterEvent\": \"custom.exercise_interaction\", \"data\": {\"outcomeType\": 1, \"valueTowardsCompletion\": 0.3333333333333333, \"interactionType\": 1, \"questionType\": 2, \"questionId\": \"3.1_PlotBlueScatter\", \"learnToolsVersion\": \"0.3.4\", \"failureMessage\": \"\", \"exceptionClass\": \"\", \"trace\": \"\"}}, \"*\")"
      ],
      "text/plain": [
       "<IPython.core.display.Javascript object>"
      ]
     },
     "metadata": {},
     "output_type": "display_data"
    },
    {
     "data": {
      "text/markdown": [
       "<span style=\"color:#33cc33\">Correct</span>"
      ],
      "text/plain": [
       "Correct"
      ]
     },
     "metadata": {},
     "output_type": "display_data"
    },
    {
     "data": {
      "image/png": "[encoded data removed]",
      "text/plain": [
       "<Figure size 432x288 with 1 Axes>"
      ]
     },
     "metadata": {
      "needs_background": "light"
     },
     "output_type": "display_data"
    }
   ],
   "source": [
    "# Scatter plot showing the relationship between 'sugarpercent' and 'winpercent'\n",
    "sns.scatterplot(x=candy_data['sugarpercent'], y=candy_data['winpercent']) # Your code here\n",
    "\n",
    "# Check your answer\n",
    "step_3.a.check()"
   ]
  },
  {
   "cell_type": "code",
   "execution_count": 9,
   "id": "1b5b6329",
   "metadata": {
    "execution": {
     "iopub.execute_input": "2022-07-04T09:12:47.086694Z",
     "iopub.status.busy": "2022-07-04T09:12:47.085663Z",
     "iopub.status.idle": "2022-07-04T09:12:47.090112Z",
     "shell.execute_reply": "2022-07-04T09:12:47.089019Z"
    },
    "papermill": {
     "duration": 0.018986,
     "end_time": "2022-07-04T09:12:47.092443",
     "exception": false,
     "start_time": "2022-07-04T09:12:47.073457",
     "status": "completed"
    },
    "tags": []
   },
   "outputs": [],
   "source": [
    "# Lines below will give you a hint or solution code\n",
    "#step_3.a.hint()\n",
    "#step_3.a.solution_plot()"
   ]
  },
  {
   "cell_type": "markdown",
   "id": "9ceeaaa3",
   "metadata": {
    "papermill": {
     "duration": 0.011318,
     "end_time": "2022-07-04T09:12:47.115174",
     "exception": false,
     "start_time": "2022-07-04T09:12:47.103856",
     "status": "completed"
    },
    "tags": []
   },
   "source": [
    "#### Part B\n",
    "\n",
    "Does the scatter plot show a **strong** correlation between the two variables?  If so, are candies with more sugar relatively more or less popular with the survey respondents?"
   ]
  },
  {
   "cell_type": "code",
   "execution_count": 10,
   "id": "1c5d376c",
   "metadata": {
    "execution": {
     "iopub.execute_input": "2022-07-04T09:12:47.139847Z",
     "iopub.status.busy": "2022-07-04T09:12:47.138968Z",
     "iopub.status.idle": "2022-07-04T09:12:47.144158Z",
     "shell.execute_reply": "2022-07-04T09:12:47.143196Z"
    },
    "papermill": {
     "duration": 0.019685,
     "end_time": "2022-07-04T09:12:47.146308",
     "exception": false,
     "start_time": "2022-07-04T09:12:47.126623",
     "status": "completed"
    },
    "tags": []
   },
   "outputs": [],
   "source": [
    "#step_3.b.hint()"
   ]
  },
  {
   "cell_type": "code",
   "execution_count": 11,
   "id": "90db1997",
   "metadata": {
    "execution": {
     "iopub.execute_input": "2022-07-04T09:12:47.171562Z",
     "iopub.status.busy": "2022-07-04T09:12:47.170431Z",
     "iopub.status.idle": "2022-07-04T09:12:47.178397Z",
     "shell.execute_reply": "2022-07-04T09:12:47.177628Z"
    },
    "papermill": {
     "duration": 0.022604,
     "end_time": "2022-07-04T09:12:47.180349",
     "exception": false,
     "start_time": "2022-07-04T09:12:47.157745",
     "status": "completed"
    },
    "tags": []
   },
   "outputs": [
    {
     "data": {
      "application/javascript": [
       "parent.postMessage({\"jupyterEvent\": \"custom.exercise_interaction\", \"data\": {\"interactionType\": 3, \"questionType\": 4, \"questionId\": \"3.2_ThinkBlueScatter\", \"learnToolsVersion\": \"0.3.4\", \"valueTowardsCompletion\": 0.0, \"failureMessage\": \"\", \"exceptionClass\": \"\", \"trace\": \"\", \"outcomeType\": 4}}, \"*\")"
      ],
      "text/plain": [
       "<IPython.core.display.Javascript object>"
      ]
     },
     "metadata": {},
     "output_type": "display_data"
    },
    {
     "data": {
      "text/markdown": [
       "<span style=\"color:#33cc99\">Solution:</span> The scatter plot does not show a strong correlation between the two variables. Since there is no clear relationship between the two variables, this tells us that sugar content does not play a strong role in candy popularity."
      ],
      "text/plain": [
       "Solution: The scatter plot does not show a strong correlation between the two variables. Since there is no clear relationship between the two variables, this tells us that sugar content does not play a strong role in candy popularity."
      ]
     },
     "metadata": {},
     "output_type": "display_data"
    }
   ],
   "source": [
    "# Check your answer (Run this code cell to receive credit!)\n",
    "step_3.b.solution()"
   ]
  },
  {
   "cell_type": "markdown",
   "id": "2bb763ad",
   "metadata": {
    "papermill": {
     "duration": 0.011305,
     "end_time": "2022-07-04T09:12:47.202959",
     "exception": false,
     "start_time": "2022-07-04T09:12:47.191654",
     "status": "completed"
    },
    "tags": []
   },
   "source": [
    "## Step 4: Take a closer look\n",
    "\n",
    "#### Part A\n",
    "\n",
    "Create the same scatter plot you created in **Step 3**, but now with a regression line!"
   ]
  },
  {
   "cell_type": "code",
   "execution_count": 12,
   "id": "7fcc54a8",
   "metadata": {
    "execution": {
     "iopub.execute_input": "2022-07-04T09:12:47.228139Z",
     "iopub.status.busy": "2022-07-04T09:12:47.227132Z",
     "iopub.status.idle": "2022-07-04T09:12:47.530439Z",
     "shell.execute_reply": "2022-07-04T09:12:47.529270Z"
    },
    "papermill": {
     "duration": 0.318185,
     "end_time": "2022-07-04T09:12:47.532811",
     "exception": false,
     "start_time": "2022-07-04T09:12:47.214626",
     "status": "completed"
    },
    "tags": []
   },
   "outputs": [
    {
     "data": {
      "application/javascript": [
       "parent.postMessage({\"jupyterEvent\": \"custom.exercise_interaction\", \"data\": {\"outcomeType\": 1, \"valueTowardsCompletion\": 0.3333333333333333, \"interactionType\": 1, \"questionType\": 2, \"questionId\": \"4.1_PlotBlueReg\", \"learnToolsVersion\": \"0.3.4\", \"failureMessage\": \"\", \"exceptionClass\": \"\", \"trace\": \"\"}}, \"*\")"
      ],
      "text/plain": [
       "<IPython.core.display.Javascript object>"
      ]
     },
     "metadata": {},
     "output_type": "display_data"
    },
    {
     "data": {
      "text/markdown": [
       "<span style=\"color:#33cc33\">Correct</span>"
      ],
      "text/plain": [
       "Correct"
      ]
     },
     "metadata": {},
     "output_type": "display_data"
    },
    {
     "data": {
      "image/png": "[encoded data removed]",
      "text/plain": [
       "<Figure size 432x288 with 1 Axes>"
      ]
     },
     "metadata": {
      "needs_background": "light"
     },
     "output_type": "display_data"
    }
   ],
   "source": [
    "# Scatter plot w/ regression line showing the relationship between 'sugarpercent' and 'winpercent'\n",
    "sns.regplot(x=candy_data['sugarpercent'], y=candy_data['winpercent']) # Your code here\n",
    "\n",
    "# Check your answer\n",
    "step_4.a.check()"
   ]
  },
  {
   "cell_type": "code",
   "execution_count": 13,
   "id": "0aba3181",
   "metadata": {
    "execution": {
     "iopub.execute_input": "2022-07-04T09:12:47.558211Z",
     "iopub.status.busy": "2022-07-04T09:12:47.557799Z",
     "iopub.status.idle": "2022-07-04T09:12:47.562313Z",
     "shell.execute_reply": "2022-07-04T09:12:47.561223Z"
    },
    "papermill": {
     "duration": 0.019405,
     "end_time": "2022-07-04T09:12:47.564351",
     "exception": false,
     "start_time": "2022-07-04T09:12:47.544946",
     "status": "completed"
    },
    "tags": []
   },
   "outputs": [],
   "source": [
    "# Lines below will give you a hint or solution code\n",
    "#step_4.a.hint()\n",
    "#step_4.a.solution_plot()"
   ]
  },
  {
   "cell_type": "markdown",
   "id": "375e5de4",
   "metadata": {
    "papermill": {
     "duration": 0.011379,
     "end_time": "2022-07-04T09:12:47.588047",
     "exception": false,
     "start_time": "2022-07-04T09:12:47.576668",
     "status": "completed"
    },
    "tags": []
   },
   "source": [
    "#### Part B\n",
    "\n",
    "According to the plot above, is there a **slight** correlation between `'winpercent'` and `'sugarpercent'`?  What does this tell you about the candy that people tend to prefer?"
   ]
  },
  {
   "cell_type": "code",
   "execution_count": 14,
   "id": "22417803",
   "metadata": {
    "execution": {
     "iopub.execute_input": "2022-07-04T09:12:47.613258Z",
     "iopub.status.busy": "2022-07-04T09:12:47.612867Z",
     "iopub.status.idle": "2022-07-04T09:12:47.617547Z",
     "shell.execute_reply": "2022-07-04T09:12:47.616480Z"
    },
    "papermill": {
     "duration": 0.019895,
     "end_time": "2022-07-04T09:12:47.619740",
     "exception": false,
     "start_time": "2022-07-04T09:12:47.599845",
     "status": "completed"
    },
    "tags": []
   },
   "outputs": [],
   "source": [
    "#step_4.b.hint()"
   ]
  },
  {
   "cell_type": "code",
   "execution_count": 15,
   "id": "75b7c178",
   "metadata": {
    "execution": {
     "iopub.execute_input": "2022-07-04T09:12:47.645404Z",
     "iopub.status.busy": "2022-07-04T09:12:47.644760Z",
     "iopub.status.idle": "2022-07-04T09:12:47.651757Z",
     "shell.execute_reply": "2022-07-04T09:12:47.650930Z"
    },
    "papermill": {
     "duration": 0.022059,
     "end_time": "2022-07-04T09:12:47.653677",
     "exception": false,
     "start_time": "2022-07-04T09:12:47.631618",
     "status": "completed"
    },
    "tags": []
   },
   "outputs": [
    {
     "data": {
      "application/javascript": [
       "parent.postMessage({\"jupyterEvent\": \"custom.exercise_interaction\", \"data\": {\"interactionType\": 3, \"questionType\": 4, \"questionId\": \"4.2_ThinkBlueReg\", \"learnToolsVersion\": \"0.3.4\", \"valueTowardsCompletion\": 0.0, \"failureMessage\": \"\", \"exceptionClass\": \"\", \"trace\": \"\", \"outcomeType\": 4}}, \"*\")"
      ],
      "text/plain": [
       "<IPython.core.display.Javascript object>"
      ]
     },
     "metadata": {},
     "output_type": "display_data"
    },
    {
     "data": {
      "text/markdown": [
       "<span style=\"color:#33cc99\">Solution:</span> Since the regression line has a slightly positive slope, this tells us that there is a slightly positive correlation between `'winpercent'` and `'sugarpercent'`. Thus, people have a slight preference for candies containing relatively more sugar."
      ],
      "text/plain": [
       "Solution: Since the regression line has a slightly positive slope, this tells us that there is a slightly positive correlation between `'winpercent'` and `'sugarpercent'`. Thus, people have a slight preference for candies containing relatively more sugar."
      ]
     },
     "metadata": {},
     "output_type": "display_data"
    }
   ],
   "source": [
    "# Check your answer (Run this code cell to receive credit!)\n",
    "step_4.b.solution()"
   ]
  },
  {
   "cell_type": "markdown",
   "id": "2d6e0993",
   "metadata": {
    "papermill": {
     "duration": 0.011711,
     "end_time": "2022-07-04T09:12:47.677471",
     "exception": false,
     "start_time": "2022-07-04T09:12:47.665760",
     "status": "completed"
    },
    "tags": []
   },
   "source": [
    "## Step 5: Chocolate!\n",
    "\n",
    "In the code cell below, create a scatter plot to show the relationship between `'pricepercent'` (on the horizontal x-axis) and `'winpercent'` (on the vertical y-axis). Use the `'chocolate'` column to color-code the points.  _Don't add any regression lines just yet -- you'll do that in the next step!_"
   ]
  },
  {
   "cell_type": "code",
   "execution_count": 16,
   "id": "72652d46",
   "metadata": {
    "execution": {
     "iopub.execute_input": "2022-07-04T09:12:47.703554Z",
     "iopub.status.busy": "2022-07-04T09:12:47.702754Z",
     "iopub.status.idle": "2022-07-04T09:12:47.949203Z",
     "shell.execute_reply": "2022-07-04T09:12:47.948390Z"
    },
    "papermill": {
     "duration": 0.261914,
     "end_time": "2022-07-04T09:12:47.951332",
     "exception": false,
     "start_time": "2022-07-04T09:12:47.689418",
     "status": "completed"
    },
    "tags": []
   },
   "outputs": [
    {
     "data": {
      "application/javascript": [
       "parent.postMessage({\"jupyterEvent\": \"custom.exercise_interaction\", \"data\": {\"outcomeType\": 1, \"valueTowardsCompletion\": 0.3333333333333333, \"interactionType\": 1, \"questionType\": 2, \"questionId\": \"5_ColorScatter\", \"learnToolsVersion\": \"0.3.4\", \"failureMessage\": \"\", \"exceptionClass\": \"\", \"trace\": \"\"}}, \"*\")"
      ],
      "text/plain": [
       "<IPython.core.display.Javascript object>"
      ]
     },
     "metadata": {},
     "output_type": "display_data"
    },
    {
     "data": {
      "text/markdown": [
       "<span style=\"color:#33cc33\">Correct</span>"
      ],
      "text/plain": [
       "Correct"
      ]
     },
     "metadata": {},
     "output_type": "display_data"
    },
    {
     "data": {
      "image/png": "[encoded data removed]",
      "text/plain": [
       "<Figure size 432x288 with 1 Axes>"
      ]
     },
     "metadata": {
      "needs_background": "light"
     },
     "output_type": "display_data"
    }
   ],
   "source": [
    "# Scatter plot showing the relationship between 'pricepercent', 'winpercent', and 'chocolate'\n",
    "sns.scatterplot(x=candy_data['pricepercent'], y=candy_data['winpercent'], hue=candy_data['chocolate'])  # Your code here\n",
    "\n",
    "# Check your answer\n",
    "step_5.check()"
   ]
  },
  {
   "cell_type": "code",
   "execution_count": 17,
   "id": "447d22e9",
   "metadata": {
    "execution": {
     "iopub.execute_input": "2022-07-04T09:12:47.979347Z",
     "iopub.status.busy": "2022-07-04T09:12:47.978416Z",
     "iopub.status.idle": "2022-07-04T09:12:47.982554Z",
     "shell.execute_reply": "2022-07-04T09:12:47.981766Z"
    },
    "papermill": {
     "duration": 0.02018,
     "end_time": "2022-07-04T09:12:47.984464",
     "exception": false,
     "start_time": "2022-07-04T09:12:47.964284",
     "status": "completed"
    },
    "tags": []
   },
   "outputs": [],
   "source": [
    "# Lines below will give you a hint or solution code\n",
    "#step_5.hint()\n",
    "#step_5.solution_plot()"
   ]
  },
  {
   "cell_type": "markdown",
   "id": "f1c6c65a",
   "metadata": {
    "papermill": {
     "duration": 0.012666,
     "end_time": "2022-07-04T09:12:48.009810",
     "exception": false,
     "start_time": "2022-07-04T09:12:47.997144",
     "status": "completed"
    },
    "tags": []
   },
   "source": [
    "Can you see any interesting patterns in the scatter plot?  We'll investigate this plot further  by adding regression lines in the next step!\n",
    "\n",
    "## Step 6: Investigate chocolate\n",
    "\n",
    "#### Part A\n",
    "\n",
    "Create the same scatter plot you created in **Step 5**, but now with two regression lines, corresponding to (1) chocolate candies and (2) candies without chocolate."
   ]
  },
  {
   "cell_type": "code",
   "execution_count": 18,
   "id": "ca0a78f2",
   "metadata": {
    "execution": {
     "iopub.execute_input": "2022-07-04T09:12:48.037932Z",
     "iopub.status.busy": "2022-07-04T09:12:48.037240Z",
     "iopub.status.idle": "2022-07-04T09:12:48.649587Z",
     "shell.execute_reply": "2022-07-04T09:12:48.648189Z"
    },
    "papermill": {
     "duration": 0.630102,
     "end_time": "2022-07-04T09:12:48.652901",
     "exception": false,
     "start_time": "2022-07-04T09:12:48.022799",
     "status": "completed"
    },
    "tags": []
   },
   "outputs": [
    {
     "data": {
      "application/javascript": [
       "parent.postMessage({\"jupyterEvent\": \"custom.exercise_interaction\", \"data\": {\"outcomeType\": 1, \"valueTowardsCompletion\": 0.3333333333333333, \"interactionType\": 1, \"questionType\": 2, \"questionId\": \"6.1_PlotColorReg\", \"learnToolsVersion\": \"0.3.4\", \"failureMessage\": \"\", \"exceptionClass\": \"\", \"trace\": \"\"}}, \"*\")"
      ],
      "text/plain": [
       "<IPython.core.display.Javascript object>"
      ]
     },
     "metadata": {},
     "output_type": "display_data"
    },
    {
     "data": {
      "text/markdown": [
       "<span style=\"color:#33cc33\">Correct</span>"
      ],
      "text/plain": [
       "Correct"
      ]
     },
     "metadata": {},
     "output_type": "display_data"
    },
    {
     "data": {
      "image/png": "[encoded data removed]",
      "text/plain": [
       "<Figure size 416.375x360 with 1 Axes>"
      ]
     },
     "metadata": {
      "needs_background": "light"
     },
     "output_type": "display_data"
    }
   ],
   "source": [
    "# Color-coded scatter plot w/ regression lines\n",
    "sns.lmplot(x='pricepercent', y='winpercent', hue='chocolate', data=candy_data) # Your code here\n",
    "\n",
    "# Check your answer\n",
    "step_6.a.check()"
   ]
  },
  {
   "cell_type": "code",
   "execution_count": 19,
   "id": "886610bf",
   "metadata": {
    "execution": {
     "iopub.execute_input": "2022-07-04T09:12:48.684938Z",
     "iopub.status.busy": "2022-07-04T09:12:48.684091Z",
     "iopub.status.idle": "2022-07-04T09:12:48.689083Z",
     "shell.execute_reply": "2022-07-04T09:12:48.688076Z"
    },
    "papermill": {
     "duration": 0.02392,
     "end_time": "2022-07-04T09:12:48.691665",
     "exception": false,
     "start_time": "2022-07-04T09:12:48.667745",
     "status": "completed"
    },
    "tags": []
   },
   "outputs": [],
   "source": [
    "# Lines below will give you a hint or solution code\n",
    "#step_6.a.hint()\n",
    "#step_6.a.solution_plot()"
   ]
  },
  {
   "cell_type": "markdown",
   "id": "46958613",
   "metadata": {
    "papermill": {
     "duration": 0.014786,
     "end_time": "2022-07-04T09:12:48.721220",
     "exception": false,
     "start_time": "2022-07-04T09:12:48.706434",
     "status": "completed"
    },
    "tags": []
   },
   "source": [
    "#### Part B\n",
    "\n",
    "Using the regression lines, what conclusions can you draw about the effects of chocolate and price on candy popularity?"
   ]
  },
  {
   "cell_type": "code",
   "execution_count": 20,
   "id": "895f2b23",
   "metadata": {
    "execution": {
     "iopub.execute_input": "2022-07-04T09:12:48.753743Z",
     "iopub.status.busy": "2022-07-04T09:12:48.752884Z",
     "iopub.status.idle": "2022-07-04T09:12:48.757311Z",
     "shell.execute_reply": "2022-07-04T09:12:48.756447Z"
    },
    "papermill": {
     "duration": 0.023391,
     "end_time": "2022-07-04T09:12:48.759544",
     "exception": false,
     "start_time": "2022-07-04T09:12:48.736153",
     "status": "completed"
    },
    "tags": []
   },
   "outputs": [],
   "source": [
    "#step_6.b.hint()"
   ]
  },
  {
   "cell_type": "code",
   "execution_count": 21,
   "id": "3c61e232",
   "metadata": {
    "execution": {
     "iopub.execute_input": "2022-07-04T09:12:48.793901Z",
     "iopub.status.busy": "2022-07-04T09:12:48.793398Z",
     "iopub.status.idle": "2022-07-04T09:12:48.801641Z",
     "shell.execute_reply": "2022-07-04T09:12:48.800592Z"
    },
    "papermill": {
     "duration": 0.029012,
     "end_time": "2022-07-04T09:12:48.803711",
     "exception": false,
     "start_time": "2022-07-04T09:12:48.774699",
     "status": "completed"
    },
    "tags": []
   },
   "outputs": [
    {
     "data": {
      "application/javascript": [
       "parent.postMessage({\"jupyterEvent\": \"custom.exercise_interaction\", \"data\": {\"interactionType\": 3, \"questionType\": 4, \"questionId\": \"6.2_ThinkColorReg\", \"learnToolsVersion\": \"0.3.4\", \"valueTowardsCompletion\": 0.0, \"failureMessage\": \"\", \"exceptionClass\": \"\", \"trace\": \"\", \"outcomeType\": 4}}, \"*\")"
      ],
      "text/plain": [
       "<IPython.core.display.Javascript object>"
      ]
     },
     "metadata": {},
     "output_type": "display_data"
    },
    {
     "data": {
      "text/markdown": [
       "<span style=\"color:#33cc99\">Solution:</span> We'll begin with the regression line for chocolate candies. Since this line has a slightly positive slope, we can say that more expensive chocolate candies tend to be more popular (than relatively cheaper chocolate candies).  Likewise, since the regression line for candies without chocolate has a negative slope, we can say that if candies don't contain chocolate, they tend to be more popular when they are cheaper.  One important note, however, is that the dataset is quite small -- so we shouldn't invest too much trust in these patterns!  To inspire more confidence in the results, we should add more candies to the dataset."
      ],
      "text/plain": [
       "Solution: We'll begin with the regression line for chocolate candies. Since this line has a slightly positive slope, we can say that more expensive chocolate candies tend to be more popular (than relatively cheaper chocolate candies).  Likewise, since the regression line for candies without chocolate has a negative slope, we can say that if candies don't contain chocolate, they tend to be more popular when they are cheaper.  One important note, however, is that the dataset is quite small -- so we shouldn't invest too much trust in these patterns!  To inspire more confidence in the results, we should add more candies to the dataset."
      ]
     },
     "metadata": {},
     "output_type": "display_data"
    }
   ],
   "source": [
    "# Check your answer (Run this code cell to receive credit!)\n",
    "step_6.b.solution()"
   ]
  },
  {
   "cell_type": "markdown",
   "id": "3034e71b",
   "metadata": {
    "papermill": {
     "duration": 0.014334,
     "end_time": "2022-07-04T09:12:48.832930",
     "exception": false,
     "start_time": "2022-07-04T09:12:48.818596",
     "status": "completed"
    },
    "tags": []
   },
   "source": [
    "## Step 7: Everybody loves chocolate.\n",
    "\n",
    "#### Part A\n",
    "\n",
    "Create a categorical scatter plot to highlight the relationship between `'chocolate'` and `'winpercent'`.  Put `'chocolate'` on the (horizontal) x-axis, and `'winpercent'` on the (vertical) y-axis."
   ]
  },
  {
   "cell_type": "code",
   "execution_count": 22,
   "id": "bbbc636e",
   "metadata": {
    "execution": {
     "iopub.execute_input": "2022-07-04T09:12:48.865498Z",
     "iopub.status.busy": "2022-07-04T09:12:48.864186Z",
     "iopub.status.idle": "2022-07-04T09:12:49.069538Z",
     "shell.execute_reply": "2022-07-04T09:12:49.068208Z"
    },
    "papermill": {
     "duration": 0.22472,
     "end_time": "2022-07-04T09:12:49.072513",
     "exception": false,
     "start_time": "2022-07-04T09:12:48.847793",
     "status": "completed"
    },
    "tags": []
   },
   "outputs": [
    {
     "data": {
      "application/javascript": [
       "parent.postMessage({\"jupyterEvent\": \"custom.exercise_interaction\", \"data\": {\"outcomeType\": 1, \"valueTowardsCompletion\": 0.3333333333333333, \"interactionType\": 1, \"questionType\": 2, \"questionId\": \"7.1_PlotSwarm\", \"learnToolsVersion\": \"0.3.4\", \"failureMessage\": \"\", \"exceptionClass\": \"\", \"trace\": \"\"}}, \"*\")"
      ],
      "text/plain": [
       "<IPython.core.display.Javascript object>"
      ]
     },
     "metadata": {},
     "output_type": "display_data"
    },
    {
     "data": {
      "text/markdown": [
       "<span style=\"color:#33cc33\">Correct</span>"
      ],
      "text/plain": [
       "Correct"
      ]
     },
     "metadata": {},
     "output_type": "display_data"
    },
    {
     "data": {
      "image/png": "[encoded data removed]",
      "text/plain": [
       "<Figure size 432x288 with 1 Axes>"
      ]
     },
     "metadata": {
      "needs_background": "light"
     },
     "output_type": "display_data"
    }
   ],
   "source": [
    "# Scatter plot showing the relationship between 'chocolate' and 'winpercent'\n",
    "sns.swarmplot(y=candy_data['winpercent'], x=candy_data['chocolate']) # Your code here\n",
    "\n",
    "# Check your answer\n",
    "step_7.a.check()"
   ]
  },
  {
   "cell_type": "code",
   "execution_count": 23,
   "id": "a8c032c5",
   "metadata": {
    "execution": {
     "iopub.execute_input": "2022-07-04T09:12:49.105645Z",
     "iopub.status.busy": "2022-07-04T09:12:49.105137Z",
     "iopub.status.idle": "2022-07-04T09:12:49.109796Z",
     "shell.execute_reply": "2022-07-04T09:12:49.108719Z"
    },
    "papermill": {
     "duration": 0.024245,
     "end_time": "2022-07-04T09:12:49.112224",
     "exception": false,
     "start_time": "2022-07-04T09:12:49.087979",
     "status": "completed"
    },
    "tags": []
   },
   "outputs": [],
   "source": [
    "# Lines below will give you a hint or solution code\n",
    "#step_7.a.hint()\n",
    "#step_7.a.solution_plot()"
   ]
  },
  {
   "cell_type": "markdown",
   "id": "cc03c495",
   "metadata": {
    "papermill": {
     "duration": 0.016017,
     "end_time": "2022-07-04T09:12:49.144840",
     "exception": false,
     "start_time": "2022-07-04T09:12:49.128823",
     "status": "completed"
    },
    "tags": []
   },
   "source": [
    "#### Part B\n",
    "\n",
    "You decide to dedicate a section of your report to the fact that chocolate candies tend to be more popular than candies without chocolate.  Which plot is more appropriate to tell this story: the plot from **Step 6**, or the plot from **Step 7**?"
   ]
  },
  {
   "cell_type": "code",
   "execution_count": 24,
   "id": "de998382",
   "metadata": {
    "execution": {
     "iopub.execute_input": "2022-07-04T09:12:49.178969Z",
     "iopub.status.busy": "2022-07-04T09:12:49.178070Z",
     "iopub.status.idle": "2022-07-04T09:12:49.182811Z",
     "shell.execute_reply": "2022-07-04T09:12:49.181799Z"
    },
    "papermill": {
     "duration": 0.024762,
     "end_time": "2022-07-04T09:12:49.185355",
     "exception": false,
     "start_time": "2022-07-04T09:12:49.160593",
     "status": "completed"
    },
    "tags": []
   },
   "outputs": [],
   "source": [
    "#step_7.b.hint()"
   ]
  },
  {
   "cell_type": "code",
   "execution_count": 25,
   "id": "091de5b3",
   "metadata": {
    "execution": {
     "iopub.execute_input": "2022-07-04T09:12:49.218928Z",
     "iopub.status.busy": "2022-07-04T09:12:49.218059Z",
     "iopub.status.idle": "2022-07-04T09:12:49.226235Z",
     "shell.execute_reply": "2022-07-04T09:12:49.225375Z"
    },
    "papermill": {
     "duration": 0.027735,
     "end_time": "2022-07-04T09:12:49.228604",
     "exception": false,
     "start_time": "2022-07-04T09:12:49.200869",
     "status": "completed"
    },
    "tags": []
   },
   "outputs": [
    {
     "data": {
      "application/javascript": [
       "parent.postMessage({\"jupyterEvent\": \"custom.exercise_interaction\", \"data\": {\"interactionType\": 3, \"questionType\": 4, \"questionId\": \"7.2_ThinkSwarm\", \"learnToolsVersion\": \"0.3.4\", \"valueTowardsCompletion\": 0.0, \"failureMessage\": \"\", \"exceptionClass\": \"\", \"trace\": \"\", \"outcomeType\": 4}}, \"*\")"
      ],
      "text/plain": [
       "<IPython.core.display.Javascript object>"
      ]
     },
     "metadata": {},
     "output_type": "display_data"
    },
    {
     "data": {
      "text/markdown": [
       "<span style=\"color:#33cc99\">Solution:</span> In this case, the categorical scatter plot from **Step 7** is the more appropriate plot. While both plots tell the desired story, the plot from **Step 6** conveys far more information that could distract from the main point."
      ],
      "text/plain": [
       "Solution: In this case, the categorical scatter plot from **Step 7** is the more appropriate plot. While both plots tell the desired story, the plot from **Step 6** conveys far more information that could distract from the main point."
      ]
     },
     "metadata": {},
     "output_type": "display_data"
    }
   ],
   "source": [
    "# Check your answer (Run this code cell to receive credit!)\n",
    "step_7.b.solution()"
   ]
  },
  {
   "cell_type": "markdown",
   "id": "f36e067a",
   "metadata": {
    "papermill": {
     "duration": 0.016259,
     "end_time": "2022-07-04T09:12:49.261421",
     "exception": false,
     "start_time": "2022-07-04T09:12:49.245162",
     "status": "completed"
    },
    "tags": []
   },
   "source": [
    "## Keep going\n",
    "\n",
    "Explore **[histograms and density plots](https://www.kaggle.com/alexisbcook/distributions)**."
   ]
  },
  {
   "cell_type": "markdown",
   "id": "919aa742",
   "metadata": {
    "papermill": {
     "duration": 0.015459,
     "end_time": "2022-07-04T09:12:49.293858",
     "exception": false,
     "start_time": "2022-07-04T09:12:49.278399",
     "status": "completed"
    },
    "tags": []
   },
   "source": [
    "---\n",
    "\n",
    "\n",
    "\n",
    "\n",
    "*Have questions or comments? Visit the [course discussion forum](https://www.kaggle.com/learn/data-visualization/discussion) to chat with other learners.*"
   ]
  }
 ],
 "metadata": {
  "kernelspec": {
   "display_name": "Python 3",
   "language": "python",
   "name": "python3"
  },
  "language_info": {
   "codemirror_mode": {
    "name": "ipython",
    "version": 3
   },
   "file_extension": ".py",
   "mimetype": "text/x-python",
   "name": "python",
   "nbconvert_exporter": "python",
   "pygments_lexer": "ipython3",
   "version": "3.7.12"
  },
  "papermill": {
   "default_parameters": {},
   "duration": 14.277142,
   "end_time": "2022-07-04T09:12:50.132520",
   "environment_variables": {},
   "exception": null,
   "input_path": "__notebook__.ipynb",
   "output_path": "__notebook__.ipynb",
   "parameters": {},
   "start_time": "2022-07-04T09:12:35.855378",
   "version": "2.3.4"
  }
 },
 "nbformat": 4,
 "nbformat_minor": 5
}
