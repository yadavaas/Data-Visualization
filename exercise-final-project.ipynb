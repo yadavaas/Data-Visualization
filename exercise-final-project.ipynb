{
 "cells": [
  {
   "cell_type": "markdown",
   "id": "ad7ba6d9",
   "metadata": {
    "papermill": {
     "duration": 0.005897,
     "end_time": "2022-07-04T09:17:30.368528",
     "exception": false,
     "start_time": "2022-07-04T09:17:30.362631",
     "status": "completed"
    },
    "tags": []
   },
   "source": [
    "**This notebook is an exercise in the [Data Visualization](https://www.kaggle.com/learn/data-visualization) course.  You can reference the tutorial at [this link](https://www.kaggle.com/alexisbcook/final-project).**\n",
    "\n",
    "---\n"
   ]
  },
  {
   "cell_type": "markdown",
   "id": "43103a9a",
   "metadata": {
    "papermill": {
     "duration": 0.00449,
     "end_time": "2022-07-04T09:17:30.377952",
     "exception": false,
     "start_time": "2022-07-04T09:17:30.373462",
     "status": "completed"
    },
    "tags": []
   },
   "source": [
    "Now it's time for you to demonstrate your new skills with a project of your own!\n",
    "\n",
    "In this exercise, you will work with a dataset of your choosing.  Once you've selected a dataset, you'll design and create your own plot to tell interesting stories behind the data!\n",
    "\n",
    "## Setup\n",
    "\n",
    "Run the next cell to import and configure the Python libraries that you need to complete the exercise."
   ]
  },
  {
   "cell_type": "code",
   "execution_count": 1,
   "id": "aed8a95d",
   "metadata": {
    "execution": {
     "iopub.execute_input": "2022-07-04T09:17:30.389139Z",
     "iopub.status.busy": "2022-07-04T09:17:30.388688Z",
     "iopub.status.idle": "2022-07-04T09:17:31.512556Z",
     "shell.execute_reply": "2022-07-04T09:17:31.511223Z"
    },
    "papermill": {
     "duration": 1.133182,
     "end_time": "2022-07-04T09:17:31.515782",
     "exception": false,
     "start_time": "2022-07-04T09:17:30.382600",
     "status": "completed"
    },
    "tags": []
   },
   "outputs": [
    {
     "name": "stdout",
     "output_type": "stream",
     "text": [
      "Setup Complete\n"
     ]
    }
   ],
   "source": [
    "import pandas as pd\n",
    "pd.plotting.register_matplotlib_converters()\n",
    "import matplotlib.pyplot as plt\n",
    "%matplotlib inline\n",
    "import seaborn as sns\n",
    "print(\"Setup Complete\")"
   ]
  },
  {
   "cell_type": "markdown",
   "id": "f1c7a757",
   "metadata": {
    "papermill": {
     "duration": 0.004672,
     "end_time": "2022-07-04T09:17:31.525535",
     "exception": false,
     "start_time": "2022-07-04T09:17:31.520863",
     "status": "completed"
    },
    "tags": []
   },
   "source": [
    "The questions below will give you feedback on your work. Run the following cell to set up the feedback system."
   ]
  },
  {
   "cell_type": "code",
   "execution_count": 2,
   "id": "fcd7d4af",
   "metadata": {
    "execution": {
     "iopub.execute_input": "2022-07-04T09:17:31.537610Z",
     "iopub.status.busy": "2022-07-04T09:17:31.536715Z",
     "iopub.status.idle": "2022-07-04T09:17:31.581033Z",
     "shell.execute_reply": "2022-07-04T09:17:31.579660Z"
    },
    "papermill": {
     "duration": 0.052997,
     "end_time": "2022-07-04T09:17:31.583543",
     "exception": false,
     "start_time": "2022-07-04T09:17:31.530546",
     "status": "completed"
    },
    "tags": []
   },
   "outputs": [
    {
     "name": "stdout",
     "output_type": "stream",
     "text": [
      "Setup Complete\n"
     ]
    }
   ],
   "source": [
    "# Set up code checking\n",
    "from learntools.core import binder\n",
    "binder.bind(globals())\n",
    "from learntools.data_viz_to_coder.ex7 import *\n",
    "print(\"Setup Complete\")"
   ]
  },
  {
   "cell_type": "markdown",
   "id": "686343e9",
   "metadata": {
    "papermill": {
     "duration": 0.004586,
     "end_time": "2022-07-04T09:17:31.593136",
     "exception": false,
     "start_time": "2022-07-04T09:17:31.588550",
     "status": "completed"
    },
    "tags": []
   },
   "source": [
    "## Step 1: Attach a dataset to the notebook\n",
    "\n",
    "Begin by selecting a CSV dataset from [Kaggle Datasets](https://www.kaggle.com/datasets).  If you're unsure how to do this, please revisit the instructions in the previous tutorial.\n",
    "\n",
    "Once you have selected a dataset, click on the **[+ Add data]** option in the top right corner.  This will generate a pop-up window that you can use to search for your chosen dataset.  \n",
    "\n",
    "![ex6_search_dataset](https://i.imgur.com/cIIWPUS.png)\n",
    "\n",
    "Once you have found the dataset, click on the **[Add]** button to attach it to the notebook.  You can check that it was successful by looking at the **Data** dropdown menu to the right of the notebook -- look for an **input** folder containing a subfolder that matches the name of the dataset.\n",
    "\n",
    "<center>\n",
    "<img src=\"https://i.imgur.com/nMYc1Nu.png\" width=30%><br/>\n",
    "</center>\n",
    "\n",
    "You can click on the carat to the left of the name of the dataset to double-check that it contains a CSV file.  For instance, the image below shows that the example dataset contains two CSV files: (1) **dc-wikia-data.csv**, and (2) **marvel-wikia-data.csv**.\n",
    "\n",
    "<center>\n",
    "<img src=\"https://i.imgur.com/B4sJkVA.png\" width=30%><br/>\n",
    "</center>\n",
    "\n",
    "Once you've uploaded a dataset with a CSV file, run the code cell below **without changes** to receive credit for your work!"
   ]
  },
  {
   "cell_type": "code",
   "execution_count": 3,
   "id": "1e2c4f9d",
   "metadata": {
    "execution": {
     "iopub.execute_input": "2022-07-04T09:17:31.604973Z",
     "iopub.status.busy": "2022-07-04T09:17:31.604191Z",
     "iopub.status.idle": "2022-07-04T09:17:31.620594Z",
     "shell.execute_reply": "2022-07-04T09:17:31.619666Z"
    },
    "papermill": {
     "duration": 0.024845,
     "end_time": "2022-07-04T09:17:31.622856",
     "exception": false,
     "start_time": "2022-07-04T09:17:31.598011",
     "status": "completed"
    },
    "tags": []
   },
   "outputs": [
    {
     "data": {
      "application/javascript": [
       "parent.postMessage({\"jupyterEvent\": \"custom.exercise_interaction\", \"data\": {\"outcomeType\": 1, \"valueTowardsCompletion\": 0.25, \"interactionType\": 1, \"questionType\": 2, \"questionId\": \"1_AttachData\", \"learnToolsVersion\": \"0.3.4\", \"failureMessage\": \"\", \"exceptionClass\": \"\", \"trace\": \"\"}}, \"*\")"
      ],
      "text/plain": [
       "<IPython.core.display.Javascript object>"
      ]
     },
     "metadata": {},
     "output_type": "display_data"
    },
    {
     "data": {
      "text/markdown": [
       "<span style=\"color:#33cc33\">Correct:</span> \n",
       "\n"
      ],
      "text/plain": [
       "Correct: \n"
      ]
     },
     "metadata": {},
     "output_type": "display_data"
    }
   ],
   "source": [
    "# Check for a dataset with a CSV file\n",
    "step_1.check()"
   ]
  },
  {
   "cell_type": "markdown",
   "id": "f9a1076d",
   "metadata": {
    "papermill": {
     "duration": 0.005165,
     "end_time": "2022-07-04T09:17:31.633264",
     "exception": false,
     "start_time": "2022-07-04T09:17:31.628099",
     "status": "completed"
    },
    "tags": []
   },
   "source": [
    "## Step 2: Specify the filepath\n",
    "\n",
    "Now that the dataset is attached to the notebook, you can find its filepath.  To do this, begin by clicking on the CSV file you'd like to use.  This will open the CSV file in a tab below the notebook.  You can find the filepath towards the top of this new tab.  \n",
    "\n",
    "![ex6_filepath](https://i.imgur.com/fgXQV47.png)\n",
    "\n",
    "After you find the filepath corresponding to your dataset, fill it in as the value for `my_filepath` in the code cell below, and run the code cell to check that you've provided a valid filepath.  For instance, in the case of this example dataset, we would set\n",
    "```\n",
    "my_filepath = \"../input/fivethirtyeight-comic-characters-dataset/dc-wikia-data.csv\"\n",
    "```  \n",
    "Note that **you must enclose the filepath in quotation marks**; otherwise, the code will return an error.\n",
    "\n",
    "Once you've entered the filepath, you can close the tab below the notebook by clicking on the **[X]** at the top of the tab."
   ]
  },
  {
   "cell_type": "code",
   "execution_count": 4,
   "id": "3c33f14e",
   "metadata": {
    "execution": {
     "iopub.execute_input": "2022-07-04T09:17:31.646421Z",
     "iopub.status.busy": "2022-07-04T09:17:31.645617Z",
     "iopub.status.idle": "2022-07-04T09:17:31.655448Z",
     "shell.execute_reply": "2022-07-04T09:17:31.654575Z"
    },
    "papermill": {
     "duration": 0.018711,
     "end_time": "2022-07-04T09:17:31.657416",
     "exception": false,
     "start_time": "2022-07-04T09:17:31.638705",
     "status": "completed"
    },
    "tags": []
   },
   "outputs": [
    {
     "data": {
      "application/javascript": [
       "parent.postMessage({\"jupyterEvent\": \"custom.exercise_interaction\", \"data\": {\"outcomeType\": 1, \"valueTowardsCompletion\": 0.25, \"interactionType\": 1, \"questionType\": 2, \"questionId\": \"2_Filepath\", \"learnToolsVersion\": \"0.3.4\", \"failureMessage\": \"\", \"exceptionClass\": \"\", \"trace\": \"\"}}, \"*\")"
      ],
      "text/plain": [
       "<IPython.core.display.Javascript object>"
      ]
     },
     "metadata": {},
     "output_type": "display_data"
    },
    {
     "data": {
      "text/markdown": [
       "<span style=\"color:#33cc33\">Correct:</span> \n",
       "\n"
      ],
      "text/plain": [
       "Correct: \n"
      ]
     },
     "metadata": {},
     "output_type": "display_data"
    }
   ],
   "source": [
    "# Fill in the line below: Specify the path of the CSV file to read\n",
    "my_filepath = \"../input/data-science-jobs-in-india/Data_Science_Jobs_in_India.csv\"\n",
    "\n",
    "# Check for a valid filepath to a CSV file in a dataset\n",
    "step_2.check()"
   ]
  },
  {
   "cell_type": "markdown",
   "id": "26be7c0d",
   "metadata": {
    "papermill": {
     "duration": 0.005216,
     "end_time": "2022-07-04T09:17:31.668058",
     "exception": false,
     "start_time": "2022-07-04T09:17:31.662842",
     "status": "completed"
    },
    "tags": []
   },
   "source": [
    "## Step 3: Load the data\n",
    "\n",
    "Use the next code cell to load your data file into `my_data`.  Use the filepath that you specified in the previous step."
   ]
  },
  {
   "cell_type": "code",
   "execution_count": 5,
   "id": "a624948d",
   "metadata": {
    "execution": {
     "iopub.execute_input": "2022-07-04T09:17:31.680386Z",
     "iopub.status.busy": "2022-07-04T09:17:31.680006Z",
     "iopub.status.idle": "2022-07-04T09:17:31.701447Z",
     "shell.execute_reply": "2022-07-04T09:17:31.700691Z"
    },
    "papermill": {
     "duration": 0.030037,
     "end_time": "2022-07-04T09:17:31.703472",
     "exception": false,
     "start_time": "2022-07-04T09:17:31.673435",
     "status": "completed"
    },
    "tags": []
   },
   "outputs": [
    {
     "data": {
      "application/javascript": [
       "parent.postMessage({\"jupyterEvent\": \"custom.exercise_interaction\", \"data\": {\"outcomeType\": 1, \"valueTowardsCompletion\": 0.25, \"interactionType\": 1, \"questionType\": 2, \"questionId\": \"3_LoadData\", \"learnToolsVersion\": \"0.3.4\", \"failureMessage\": \"\", \"exceptionClass\": \"\", \"trace\": \"\"}}, \"*\")"
      ],
      "text/plain": [
       "<IPython.core.display.Javascript object>"
      ]
     },
     "metadata": {},
     "output_type": "display_data"
    },
    {
     "data": {
      "text/markdown": [
       "<span style=\"color:#33cc33\">Correct:</span> \n",
       "\n"
      ],
      "text/plain": [
       "Correct: \n"
      ]
     },
     "metadata": {},
     "output_type": "display_data"
    }
   ],
   "source": [
    "# Fill in the line below: Read the file into a variable my_data\n",
    "my_data = pd.read_csv(my_filepath)\n",
    "\n",
    "# Check that a dataset has been uploaded into my_data\n",
    "step_3.check()"
   ]
  },
  {
   "cell_type": "markdown",
   "id": "3320d074",
   "metadata": {
    "papermill": {
     "duration": 0.005381,
     "end_time": "2022-07-04T09:17:31.714518",
     "exception": false,
     "start_time": "2022-07-04T09:17:31.709137",
     "status": "completed"
    },
    "tags": []
   },
   "source": [
    "**_After the code cell above is marked correct_**, run the code cell below without changes to view the first five rows of the data."
   ]
  },
  {
   "cell_type": "code",
   "execution_count": 6,
   "id": "1b9e1ce6",
   "metadata": {
    "execution": {
     "iopub.execute_input": "2022-07-04T09:17:31.731997Z",
     "iopub.status.busy": "2022-07-04T09:17:31.731581Z",
     "iopub.status.idle": "2022-07-04T09:17:31.750674Z",
     "shell.execute_reply": "2022-07-04T09:17:31.749922Z"
    },
    "papermill": {
     "duration": 0.033331,
     "end_time": "2022-07-04T09:17:31.753653",
     "exception": false,
     "start_time": "2022-07-04T09:17:31.720322",
     "status": "completed"
    },
    "tags": []
   },
   "outputs": [
    {
     "data": {
      "text/html": [
       "<div>\n",
       "<style scoped>\n",
       "    .dataframe tbody tr th:only-of-type {\n",
       "        vertical-align: middle;\n",
       "    }\n",
       "\n",
       "    .dataframe tbody tr th {\n",
       "        vertical-align: top;\n",
       "    }\n",
       "\n",
       "    .dataframe thead th {\n",
       "        text-align: right;\n",
       "    }\n",
       "</style>\n",
       "<table border=\"1\" class=\"dataframe\">\n",
       "  <thead>\n",
       "    <tr style=\"text-align: right;\">\n",
       "      <th></th>\n",
       "      <th>Unnamed: 0</th>\n",
       "      <th>company_name</th>\n",
       "      <th>job_title</th>\n",
       "      <th>min_experience</th>\n",
       "      <th>avg_salary</th>\n",
       "      <th>min_salary</th>\n",
       "      <th>max_salary</th>\n",
       "      <th>num_of_salaries</th>\n",
       "    </tr>\n",
       "  </thead>\n",
       "  <tbody>\n",
       "    <tr>\n",
       "      <th>0</th>\n",
       "      <td>0</td>\n",
       "      <td>TCS</td>\n",
       "      <td>Data Scientist</td>\n",
       "      <td>2</td>\n",
       "      <td>7.8L</td>\n",
       "      <td>4.5L</td>\n",
       "      <td>16.0L</td>\n",
       "      <td>841</td>\n",
       "    </tr>\n",
       "    <tr>\n",
       "      <th>1</th>\n",
       "      <td>1</td>\n",
       "      <td>Accenture</td>\n",
       "      <td>Data Scientist</td>\n",
       "      <td>2</td>\n",
       "      <td>12.8L</td>\n",
       "      <td>5.8L</td>\n",
       "      <td>23.0L</td>\n",
       "      <td>501</td>\n",
       "    </tr>\n",
       "    <tr>\n",
       "      <th>2</th>\n",
       "      <td>2</td>\n",
       "      <td>IBM</td>\n",
       "      <td>Data Scientist</td>\n",
       "      <td>2</td>\n",
       "      <td>13.4L</td>\n",
       "      <td>5.3L</td>\n",
       "      <td>25.0L</td>\n",
       "      <td>394</td>\n",
       "    </tr>\n",
       "    <tr>\n",
       "      <th>3</th>\n",
       "      <td>3</td>\n",
       "      <td>Cognizant</td>\n",
       "      <td>Data Scientist</td>\n",
       "      <td>2</td>\n",
       "      <td>9.8L</td>\n",
       "      <td>5.0L</td>\n",
       "      <td>18.0L</td>\n",
       "      <td>318</td>\n",
       "    </tr>\n",
       "    <tr>\n",
       "      <th>4</th>\n",
       "      <td>4</td>\n",
       "      <td>Capgemini</td>\n",
       "      <td>Data Scientist</td>\n",
       "      <td>2</td>\n",
       "      <td>8.6L</td>\n",
       "      <td>4.8L</td>\n",
       "      <td>14.6L</td>\n",
       "      <td>300</td>\n",
       "    </tr>\n",
       "  </tbody>\n",
       "</table>\n",
       "</div>"
      ],
      "text/plain": [
       "   Unnamed: 0 company_name       job_title  min_experience avg_salary  \\\n",
       "0           0          TCS  Data Scientist               2       7.8L   \n",
       "1           1    Accenture  Data Scientist               2      12.8L   \n",
       "2           2          IBM  Data Scientist               2      13.4L   \n",
       "3           3    Cognizant  Data Scientist               2       9.8L   \n",
       "4           4    Capgemini  Data Scientist               2       8.6L   \n",
       "\n",
       "  min_salary max_salary  num_of_salaries  \n",
       "0       4.5L      16.0L              841  \n",
       "1       5.8L      23.0L              501  \n",
       "2       5.3L      25.0L              394  \n",
       "3       5.0L      18.0L              318  \n",
       "4       4.8L      14.6L              300  "
      ]
     },
     "execution_count": 6,
     "metadata": {},
     "output_type": "execute_result"
    }
   ],
   "source": [
    "# Print the first five rows of the data\n",
    "my_data.head()"
   ]
  },
  {
   "cell_type": "code",
   "execution_count": 7,
   "id": "47c777d7",
   "metadata": {
    "execution": {
     "iopub.execute_input": "2022-07-04T09:17:31.767624Z",
     "iopub.status.busy": "2022-07-04T09:17:31.766988Z",
     "iopub.status.idle": "2022-07-04T09:17:31.787550Z",
     "shell.execute_reply": "2022-07-04T09:17:31.786468Z"
    },
    "papermill": {
     "duration": 0.030265,
     "end_time": "2022-07-04T09:17:31.790121",
     "exception": false,
     "start_time": "2022-07-04T09:17:31.759856",
     "status": "completed"
    },
    "tags": []
   },
   "outputs": [
    {
     "data": {
      "text/html": [
       "<div>\n",
       "<style scoped>\n",
       "    .dataframe tbody tr th:only-of-type {\n",
       "        vertical-align: middle;\n",
       "    }\n",
       "\n",
       "    .dataframe tbody tr th {\n",
       "        vertical-align: top;\n",
       "    }\n",
       "\n",
       "    .dataframe thead th {\n",
       "        text-align: right;\n",
       "    }\n",
       "</style>\n",
       "<table border=\"1\" class=\"dataframe\">\n",
       "  <thead>\n",
       "    <tr style=\"text-align: right;\">\n",
       "      <th></th>\n",
       "      <th>Unnamed: 0</th>\n",
       "      <th>company_name</th>\n",
       "      <th>job_title</th>\n",
       "      <th>min_experience</th>\n",
       "      <th>avg_salary</th>\n",
       "      <th>min_salary</th>\n",
       "      <th>max_salary</th>\n",
       "      <th>num_of_salaries</th>\n",
       "    </tr>\n",
       "  </thead>\n",
       "  <tbody>\n",
       "    <tr>\n",
       "      <th>0</th>\n",
       "      <td>0</td>\n",
       "      <td>TCS</td>\n",
       "      <td>Data Scientist</td>\n",
       "      <td>2</td>\n",
       "      <td>7.8L</td>\n",
       "      <td>4.5L</td>\n",
       "      <td>16.0L</td>\n",
       "      <td>841</td>\n",
       "    </tr>\n",
       "    <tr>\n",
       "      <th>1</th>\n",
       "      <td>1</td>\n",
       "      <td>Accenture</td>\n",
       "      <td>Data Scientist</td>\n",
       "      <td>2</td>\n",
       "      <td>12.8L</td>\n",
       "      <td>5.8L</td>\n",
       "      <td>23.0L</td>\n",
       "      <td>501</td>\n",
       "    </tr>\n",
       "    <tr>\n",
       "      <th>2</th>\n",
       "      <td>2</td>\n",
       "      <td>IBM</td>\n",
       "      <td>Data Scientist</td>\n",
       "      <td>2</td>\n",
       "      <td>13.4L</td>\n",
       "      <td>5.3L</td>\n",
       "      <td>25.0L</td>\n",
       "      <td>394</td>\n",
       "    </tr>\n",
       "    <tr>\n",
       "      <th>3</th>\n",
       "      <td>3</td>\n",
       "      <td>Cognizant</td>\n",
       "      <td>Data Scientist</td>\n",
       "      <td>2</td>\n",
       "      <td>9.8L</td>\n",
       "      <td>5.0L</td>\n",
       "      <td>18.0L</td>\n",
       "      <td>318</td>\n",
       "    </tr>\n",
       "    <tr>\n",
       "      <th>4</th>\n",
       "      <td>4</td>\n",
       "      <td>Capgemini</td>\n",
       "      <td>Data Scientist</td>\n",
       "      <td>2</td>\n",
       "      <td>8.6L</td>\n",
       "      <td>4.8L</td>\n",
       "      <td>14.6L</td>\n",
       "      <td>300</td>\n",
       "    </tr>\n",
       "    <tr>\n",
       "      <th>...</th>\n",
       "      <td>...</td>\n",
       "      <td>...</td>\n",
       "      <td>...</td>\n",
       "      <td>...</td>\n",
       "      <td>...</td>\n",
       "      <td>...</td>\n",
       "      <td>...</td>\n",
       "      <td>...</td>\n",
       "    </tr>\n",
       "    <tr>\n",
       "      <th>1597</th>\n",
       "      <td>1597</td>\n",
       "      <td>Collabera Technologies</td>\n",
       "      <td>Data Architect</td>\n",
       "      <td>8</td>\n",
       "      <td>17.0L</td>\n",
       "      <td>12.0L</td>\n",
       "      <td>23.1L</td>\n",
       "      <td>4</td>\n",
       "    </tr>\n",
       "    <tr>\n",
       "      <th>1598</th>\n",
       "      <td>1598</td>\n",
       "      <td>Coforge</td>\n",
       "      <td>Data Architect</td>\n",
       "      <td>7</td>\n",
       "      <td>27.1L</td>\n",
       "      <td>18.5L</td>\n",
       "      <td>39.0L</td>\n",
       "      <td>4</td>\n",
       "    </tr>\n",
       "    <tr>\n",
       "      <th>1599</th>\n",
       "      <td>1599</td>\n",
       "      <td>Hitachi</td>\n",
       "      <td>Data Architect</td>\n",
       "      <td>21</td>\n",
       "      <td>40.0L</td>\n",
       "      <td>25.0L</td>\n",
       "      <td>50.0L</td>\n",
       "      <td>3</td>\n",
       "    </tr>\n",
       "    <tr>\n",
       "      <th>1600</th>\n",
       "      <td>1600</td>\n",
       "      <td>GE Power</td>\n",
       "      <td>Data Architect</td>\n",
       "      <td>7</td>\n",
       "      <td>16.7L</td>\n",
       "      <td>14.9L</td>\n",
       "      <td>19.0L</td>\n",
       "      <td>3</td>\n",
       "    </tr>\n",
       "    <tr>\n",
       "      <th>1601</th>\n",
       "      <td>1601</td>\n",
       "      <td>T-Systems</td>\n",
       "      <td>Data Architect</td>\n",
       "      <td>16</td>\n",
       "      <td>33.3L</td>\n",
       "      <td>33.0L</td>\n",
       "      <td>34.0L</td>\n",
       "      <td>3</td>\n",
       "    </tr>\n",
       "  </tbody>\n",
       "</table>\n",
       "<p>1602 rows × 8 columns</p>\n",
       "</div>"
      ],
      "text/plain": [
       "      Unnamed: 0            company_name       job_title  min_experience  \\\n",
       "0              0                     TCS  Data Scientist               2   \n",
       "1              1               Accenture  Data Scientist               2   \n",
       "2              2                     IBM  Data Scientist               2   \n",
       "3              3               Cognizant  Data Scientist               2   \n",
       "4              4               Capgemini  Data Scientist               2   \n",
       "...          ...                     ...             ...             ...   \n",
       "1597        1597  Collabera Technologies  Data Architect               8   \n",
       "1598        1598                 Coforge  Data Architect               7   \n",
       "1599        1599                 Hitachi  Data Architect              21   \n",
       "1600        1600                GE Power  Data Architect               7   \n",
       "1601        1601               T-Systems  Data Architect              16   \n",
       "\n",
       "     avg_salary min_salary max_salary  num_of_salaries  \n",
       "0          7.8L       4.5L      16.0L              841  \n",
       "1         12.8L       5.8L      23.0L              501  \n",
       "2         13.4L       5.3L      25.0L              394  \n",
       "3          9.8L       5.0L      18.0L              318  \n",
       "4          8.6L       4.8L      14.6L              300  \n",
       "...         ...        ...        ...              ...  \n",
       "1597      17.0L      12.0L      23.1L                4  \n",
       "1598      27.1L      18.5L      39.0L                4  \n",
       "1599      40.0L      25.0L      50.0L                3  \n",
       "1600      16.7L      14.9L      19.0L                3  \n",
       "1601      33.3L      33.0L      34.0L                3  \n",
       "\n",
       "[1602 rows x 8 columns]"
      ]
     },
     "execution_count": 7,
     "metadata": {},
     "output_type": "execute_result"
    }
   ],
   "source": [
    "my_data"
   ]
  },
  {
   "cell_type": "markdown",
   "id": "99a888a6",
   "metadata": {
    "papermill": {
     "duration": 0.005998,
     "end_time": "2022-07-04T09:17:31.802449",
     "exception": false,
     "start_time": "2022-07-04T09:17:31.796451",
     "status": "completed"
    },
    "tags": []
   },
   "source": [
    "## Step 4: Visualize the data\n",
    "\n",
    "Use the next code cell to create a figure that tells a story behind your dataset.  You can use any chart type (_line chart, bar chart, heatmap, etc_) of your choosing!"
   ]
  },
  {
   "cell_type": "code",
   "execution_count": 8,
   "id": "62acb332",
   "metadata": {
    "execution": {
     "iopub.execute_input": "2022-07-04T09:17:31.816793Z",
     "iopub.status.busy": "2022-07-04T09:17:31.816055Z",
     "iopub.status.idle": "2022-07-04T09:17:34.836882Z",
     "shell.execute_reply": "2022-07-04T09:17:34.835658Z"
    },
    "papermill": {
     "duration": 3.030697,
     "end_time": "2022-07-04T09:17:34.839262",
     "exception": false,
     "start_time": "2022-07-04T09:17:31.808565",
     "status": "completed"
    },
    "tags": []
   },
   "outputs": [
    {
     "data": {
      "application/javascript": [
       "parent.postMessage({\"jupyterEvent\": \"custom.exercise_interaction\", \"data\": {\"outcomeType\": 1, \"valueTowardsCompletion\": 0.25, \"interactionType\": 1, \"questionType\": 2, \"questionId\": \"4_CreatePlot\", \"learnToolsVersion\": \"0.3.4\", \"failureMessage\": \"\", \"exceptionClass\": \"\", \"trace\": \"\"}}, \"*\")"
      ],
      "text/plain": [
       "<IPython.core.display.Javascript object>"
      ]
     },
     "metadata": {},
     "output_type": "display_data"
    },
    {
     "data": {
      "text/markdown": [
       "<span style=\"color:#33cc33\">Correct:</span> \n",
       "\n"
      ],
      "text/plain": [
       "Correct: \n"
      ]
     },
     "metadata": {},
     "output_type": "display_data"
    },
    {
     "data": {
      "image/png": "[encoded data removed]",
      "text/plain": [
       "<Figure size 1152x432 with 1 Axes>"
      ]
     },
     "metadata": {
      "needs_background": "light"
     },
     "output_type": "display_data"
    }
   ],
   "source": [
    "# Create a plot\n",
    "plt.figure(figsize=(16,6))\n",
    "plt.title(\"Avg Salary Histogram\")\n",
    "sns.histplot(data=my_data['avg_salary']);\n",
    "\n",
    "\n",
    "# Your code here\n",
    "\n",
    "# Check that a figure appears below\n",
    "step_4.check()"
   ]
  },
  {
   "cell_type": "markdown",
   "id": "fad7d83a",
   "metadata": {
    "papermill": {
     "duration": 0.006963,
     "end_time": "2022-07-04T09:17:34.853387",
     "exception": false,
     "start_time": "2022-07-04T09:17:34.846424",
     "status": "completed"
    },
    "tags": []
   },
   "source": [
    "## Keep going\n",
    "\n",
    "Learn how to use your skills after completing the micro-course to create data visualizations in a **[final tutorial](https://www.kaggle.com/alexisbcook/creating-your-own-notebooks)**."
   ]
  },
  {
   "cell_type": "markdown",
   "id": "95e1c065",
   "metadata": {
    "papermill": {
     "duration": 0.006838,
     "end_time": "2022-07-04T09:17:34.867497",
     "exception": false,
     "start_time": "2022-07-04T09:17:34.860659",
     "status": "completed"
    },
    "tags": []
   },
   "source": [
    "---\n",
    "\n",
    "\n",
    "\n",
    "\n",
    "*Have questions or comments? Visit the [course discussion forum](https://www.kaggle.com/learn/data-visualization/discussion) to chat with other learners.*"
   ]
  }
 ],
 "metadata": {
  "kernelspec": {
   "display_name": "Python 3",
   "language": "python",
   "name": "python3"
  },
  "language_info": {
   "codemirror_mode": {
    "name": "ipython",
    "version": 3
   },
   "file_extension": ".py",
   "mimetype": "text/x-python",
   "name": "python",
   "nbconvert_exporter": "python",
   "pygments_lexer": "ipython3",
   "version": "3.7.12"
  },
  "papermill": {
   "default_parameters": {},
   "duration": 15.054635,
   "end_time": "2022-07-04T09:17:35.596254",
   "environment_variables": {},
   "exception": null,
   "input_path": "__notebook__.ipynb",
   "output_path": "__notebook__.ipynb",
   "parameters": {},
   "start_time": "2022-07-04T09:17:20.541619",
   "version": "2.3.4"
  }
 },
 "nbformat": 4,
 "nbformat_minor": 5
}
